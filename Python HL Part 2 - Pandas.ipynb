{
 "cells": [
  {
   "cell_type": "code",
   "execution_count": 3,
   "id": "d626c4e6-6019-46b2-8991-23dd161ae22d",
   "metadata": {},
   "outputs": [
    {
     "data": {
      "text/html": [
       "<div>\n",
       "<style scoped>\n",
       "    .dataframe tbody tr th:only-of-type {\n",
       "        vertical-align: middle;\n",
       "    }\n",
       "\n",
       "    .dataframe tbody tr th {\n",
       "        vertical-align: top;\n",
       "    }\n",
       "\n",
       "    .dataframe thead th {\n",
       "        text-align: right;\n",
       "    }\n",
       "</style>\n",
       "<table border=\"1\" class=\"dataframe\">\n",
       "  <thead>\n",
       "    <tr style=\"text-align: right;\">\n",
       "      <th></th>\n",
       "      <th>Destination</th>\n",
       "      <th>Feedback</th>\n",
       "      <th>Hotel star</th>\n",
       "      <th>Number of all-inclusive hotels</th>\n",
       "      <th>Most visited cities</th>\n",
       "    </tr>\n",
       "  </thead>\n",
       "  <tbody>\n",
       "    <tr>\n",
       "      <th>3</th>\n",
       "      <td>Denmark</td>\n",
       "      <td>10</td>\n",
       "      <td>5</td>\n",
       "      <td>23</td>\n",
       "      <td>Copenhagen</td>\n",
       "    </tr>\n",
       "    <tr>\n",
       "      <th>4</th>\n",
       "      <td>Ethiopia</td>\n",
       "      <td>7</td>\n",
       "      <td>3</td>\n",
       "      <td>14</td>\n",
       "      <td>Addis Ababa</td>\n",
       "    </tr>\n",
       "    <tr>\n",
       "      <th>5</th>\n",
       "      <td>France</td>\n",
       "      <td>8</td>\n",
       "      <td>4</td>\n",
       "      <td>98</td>\n",
       "      <td>Paris</td>\n",
       "    </tr>\n",
       "    <tr>\n",
       "      <th>6</th>\n",
       "      <td>Gibraltar</td>\n",
       "      <td>8</td>\n",
       "      <td>4</td>\n",
       "      <td>4</td>\n",
       "      <td>Gibraltar</td>\n",
       "    </tr>\n",
       "    <tr>\n",
       "      <th>7</th>\n",
       "      <td>Hungary</td>\n",
       "      <td>9</td>\n",
       "      <td>3</td>\n",
       "      <td>21</td>\n",
       "      <td>Budapest</td>\n",
       "    </tr>\n",
       "    <tr>\n",
       "      <th>8</th>\n",
       "      <td>India</td>\n",
       "      <td>9</td>\n",
       "      <td>4</td>\n",
       "      <td>53</td>\n",
       "      <td>Mombai</td>\n",
       "    </tr>\n",
       "  </tbody>\n",
       "</table>\n",
       "</div>"
      ],
      "text/plain": [
       "  Destination  Feedback  Hotel star  Number of all-inclusive hotels  \\\n",
       "3     Denmark        10           5                              23   \n",
       "4    Ethiopia         7           3                              14   \n",
       "5      France         8           4                              98   \n",
       "6   Gibraltar         8           4                               4   \n",
       "7     Hungary         9           3                              21   \n",
       "8       India         9           4                              53   \n",
       "\n",
       "  Most visited cities  \n",
       "3          Copenhagen  \n",
       "4         Addis Ababa  \n",
       "5               Paris  \n",
       "6           Gibraltar  \n",
       "7            Budapest  \n",
       "8              Mombai  "
      ]
     },
     "execution_count": 3,
     "metadata": {},
     "output_type": "execute_result"
    }
   ],
   "source": [
    "import pandas as pd\n",
    "dataset = pd.read_csv('destination.csv')\n",
    "dataset.loc[3:8, :]"
   ]
  },
  {
   "cell_type": "code",
   "execution_count": 4,
   "id": "f5292a5b-cc67-4314-a0f6-5f71caa32bcb",
   "metadata": {},
   "outputs": [
    {
     "data": {
      "text/plain": [
       "38.333333333333336"
      ]
     },
     "execution_count": 4,
     "metadata": {},
     "output_type": "execute_result"
    }
   ],
   "source": [
    "import pandas as pd\n",
    "dataset = pd.read_csv('destination.csv')\n",
    "dataset['Number of all-inclusive hotels'].mean()"
   ]
  },
  {
   "cell_type": "code",
   "execution_count": null,
   "id": "873c46dc-093d-42fe-93b0-eaac1b0a4a2c",
   "metadata": {
    "jupyter": {
     "source_hidden": true
    },
    "tags": []
   },
   "outputs": [],
   "source": []
  },
  {
   "cell_type": "code",
   "execution_count": 24,
   "id": "03e97115-355c-4122-bedb-fe013b46f745",
   "metadata": {},
   "outputs": [
    {
     "data": {
      "text/plain": [
       "0      9\n",
       "1     10\n",
       "2      8\n",
       "3     10\n",
       "4      7\n",
       "5      8\n",
       "6      8\n",
       "7      9\n",
       "8      9\n",
       "9     10\n",
       "10     7\n",
       "11     7\n",
       "12     7\n",
       "13     8\n",
       "14     9\n",
       "Name: Feedback, dtype: int64"
      ]
     },
     "execution_count": 24,
     "metadata": {},
     "output_type": "execute_result"
    }
   ],
   "source": [
    "import pandas as pd\n",
    "dataset = pd.read_csv('destination.csv')\n",
    "dataset['Feedback']"
   ]
  },
  {
   "cell_type": "code",
   "execution_count": 53,
   "id": "b9c953be-005d-4363-803f-cf81d093dc65",
   "metadata": {},
   "outputs": [
    {
     "data": {
      "text/plain": [
       "0      9\n",
       "1     10\n",
       "2      8\n",
       "3     10\n",
       "4      7\n",
       "5      8\n",
       "6      8\n",
       "7      9\n",
       "8      9\n",
       "9     10\n",
       "10     7\n",
       "11     7\n",
       "12     7\n",
       "13     8\n",
       "14     9\n",
       "Name: Feedback, dtype: int64"
      ]
     },
     "execution_count": 53,
     "metadata": {},
     "output_type": "execute_result"
    }
   ],
   "source": [
    "import pandas as pd\n",
    "dataset = pd.read_csv('destination.csv')\n",
    "\n",
    "highscore = dataset['Feedback']\n",
    "\n",
    "highscore"
   ]
  },
  {
   "cell_type": "code",
   "execution_count": 29,
   "id": "0aa8cdea-c1e6-43e4-b32b-436aa3cfcab1",
   "metadata": {},
   "outputs": [
    {
     "data": {
      "text/plain": [
       "0      True\n",
       "1      True\n",
       "2      True\n",
       "3      True\n",
       "4      True\n",
       "5      True\n",
       "6     False\n",
       "7      True\n",
       "8      True\n",
       "9      True\n",
       "10     True\n",
       "11     True\n",
       "12     True\n",
       "13    False\n",
       "14     True\n",
       "Name: AllInclusive, dtype: bool"
      ]
     },
     "execution_count": 29,
     "metadata": {},
     "output_type": "execute_result"
    }
   ],
   "source": [
    "import pandas as pd\n",
    "dataset = pd.read_csv('destination.csv')\n",
    "myfiltermorethan9 = dataset['AllInclusive'] > 9\n",
    "\n",
    "myfiltermorethan9"
   ]
  },
  {
   "cell_type": "code",
   "execution_count": 30,
   "id": "4f4ddfb3-8787-43df-aec1-972099f82a27",
   "metadata": {},
   "outputs": [
    {
     "data": {
      "text/plain": [
       "0      True\n",
       "1      True\n",
       "2     False\n",
       "3      True\n",
       "4     False\n",
       "5     False\n",
       "6     False\n",
       "7      True\n",
       "8      True\n",
       "9      True\n",
       "10    False\n",
       "11    False\n",
       "12    False\n",
       "13    False\n",
       "14     True\n",
       "Name: Feedback, dtype: bool"
      ]
     },
     "execution_count": 30,
     "metadata": {},
     "output_type": "execute_result"
    }
   ],
   "source": [
    "import pandas as pd\n",
    "dataset = pd.read_csv('destination.csv')\n",
    "myfilterabove8 = dataset['Feedback'] > 8\n",
    "\n",
    "myfilterabove8"
   ]
  },
  {
   "cell_type": "code",
   "execution_count": 31,
   "id": "5f5f4145-fb5e-4ff2-a05f-130944b66042",
   "metadata": {},
   "outputs": [
    {
     "data": {
      "text/plain": [
       "0     False\n",
       "1     False\n",
       "2     False\n",
       "3     False\n",
       "4     False\n",
       "5     False\n",
       "6     False\n",
       "7     False\n",
       "8     False\n",
       "9     False\n",
       "10    False\n",
       "11    False\n",
       "12    False\n",
       "13    False\n",
       "14    False\n",
       "Name: Feedback, dtype: bool"
      ]
     },
     "execution_count": 31,
     "metadata": {},
     "output_type": "execute_result"
    }
   ],
   "source": [
    "import pandas as pd\n",
    "dataset = pd.read_csv('destination.csv')\n",
    "myfilterbelow2 = dataset['Feedback'] < 2\n",
    "myfilterbelow2"
   ]
  },
  {
   "cell_type": "code",
   "execution_count": null,
   "id": "bc932a15-6b06-4b63-8a69-60e7e60f8a46",
   "metadata": {},
   "outputs": [],
   "source": []
  }
 ],
 "metadata": {
  "kernelspec": {
   "display_name": "Python 3",
   "language": "python",
   "name": "python3"
  },
  "language_info": {
   "codemirror_mode": {
    "name": "ipython",
    "version": 3
   },
   "file_extension": ".py",
   "mimetype": "text/x-python",
   "name": "python",
   "nbconvert_exporter": "python",
   "pygments_lexer": "ipython3",
   "version": "3.8.8"
  }
 },
 "nbformat": 4,
 "nbformat_minor": 5
}
